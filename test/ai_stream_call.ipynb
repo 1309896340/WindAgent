{
 "cells": [
  {
   "cell_type": "code",
   "execution_count": 11,
   "id": "704eb2bf",
   "metadata": {},
   "outputs": [],
   "source": [
    "from zai import ZhipuAiClient\n",
    "import os"
   ]
  },
  {
   "cell_type": "code",
   "execution_count": 12,
   "id": "01be4d0d",
   "metadata": {},
   "outputs": [],
   "source": [
    "tools = [\n",
    "    # {\n",
    "    #     'type': 'function',\n",
    "    #     'function': {\n",
    "    #         'name': '函数名',\n",
    "    #         'description': '函数作用、用法描述',\n",
    "    #         'parameters':{\n",
    "    #             'type': 'object',\n",
    "    #             'properties':{\n",
    "    #                 '参数1': {\n",
    "    #                     'type': 'string',\n",
    "    #                     'description': '参数1描述'\n",
    "    #                 },\n",
    "    #                 '参数2': {\n",
    "    #                     'type': 'string',\n",
    "    #                     'description': '参数2描述'\n",
    "    #                 },\n",
    "    #             }\n",
    "    #         }\n",
    "    #     }\n",
    "    # }\n",
    "]"
   ]
  },
  {
   "cell_type": "code",
   "execution_count": null,
   "id": "53c131f3",
   "metadata": {},
   "outputs": [],
   "source": [
    "class Client: \n",
    "    def __init__(self) -> None:\n",
    "        self.client = ZhipuAiClient(api_key=os.environ['ZHIPU_API_KEY'])\n",
    "        self.model = 'glm-4.5'\n",
    "    def request(self, question: str):\n",
    "        messages = [\n",
    "            {\n",
    "                'role': 'system',\n",
    "                'content': '你是一个ai助手。'\n",
    "            },\n",
    "            {\n",
    "                'role': 'user',\n",
    "                'content': [\n",
    "                    {\n",
    "                        'type': 'text',\n",
    "                        'text': question\n",
    "                    }\n",
    "                ]\n",
    "            }\n",
    "        ]\n",
    "        try:\n",
    "            # # 1. 普通调用\n",
    "            # resp = self.client.chat.completions.create(\n",
    "            #     model=self.model,\n",
    "            #     messages=messages\n",
    "            # )\n",
    "            # result = resp.choices[0].message.content # type: ignore\n",
    "            \n",
    "            # 2. 流式调用\n",
    "            stream = self.client.chat.completions.create(\n",
    "                model=self.model,\n",
    "                messages=messages,\n",
    "                stream=True\n",
    "            )\n",
    "            for chunk in stream:\n",
    "                chunk_result = chunk.choices[0].delta.content # type: ignore\n",
    "                yield chunk_result\n",
    "        except Exception as e:\n",
    "            print(f\"请求大模型出错: \\n{str(e)}\")\n",
    "        return"
   ]
  },
  {
   "cell_type": "code",
   "execution_count": 14,
   "id": "f2c98ec7",
   "metadata": {},
   "outputs": [
    {
     "name": "stdout",
     "output_type": "stream",
     "text": [
      ">你好！我是一个AI助手，很高兴能与你交流。我可以回答问题、提供信息、参与讨论，以及帮助解决各种类型的问题。无论是学习、工作还是日常生活中的疑问，我都很乐意尽我所能提供帮助。请随时告诉我你需要什么，我会尽力协助你！>傅里叶展开的表达式（LaTeX格式）：\n",
      "\n",
      "对于周期为$2\\pi$的函数$f(x)$：\n",
      "\n",
      "$$f(x) = \\frac{a_0}{2} + \\sum_{n=1}^{\\infty} \\left( a_n \\cos(nx) + b_n \\sin(nx) \\right)$$\n",
      "\n",
      "其中系数为：\n",
      "$$a_0 = \\frac{1}{\\pi} \\int_{-\\pi}^{\\pi} f(x) \\, dx$$\n",
      "$$a_n = \\frac{1}{\\pi} \\int_{-\\pi}^{\\pi} f(x) \\cos(nx) \\, dx, \\quad n = 1, 2, 3, \\dots$$\n",
      "$$b_n = \\frac{1}{\\pi} \\int_{-\\pi}^{\\pi} f(x) \\sin(nx) \\, dx, \\quad n = 1, 2, 3, \\dots$$\n",
      "\n",
      "对于周期为$2L$的函数$f(x)$：\n",
      "\n",
      "$$f(x) = \\frac{a_0}{2} + \\sum_{n=1}^{\\infty} \\left( a_n \\cos\\left(\\frac{n\\pi x}{L}\\right) + b_n \\sin\\left(\\frac{n\\pi x}{L}\\right) \\right)$$\n",
      "\n",
      "其中系数为：\n",
      "$$a_0 = \\frac{1}{L} \\int_{-L}^{L} f(x) \\, dx$$\n",
      "$$a_n = \\frac{1}{L} \\int_{-L}^{L} f(x) \\cos\\left(\\frac{n\\pi x}{L}\\right) \\, dx, \\quad n = 1, 2, 3, \\dots$$\n",
      "$$b_n = \\frac{1}{L} \\int_{-L}^{L} f(x) \\sin\\left(\\frac{n\\pi x}{L}\\right) \\, dx, \\quad n = 1, 2, 3, \\dots$$\n",
      "\n",
      "复数形式的傅里叶展开（周期为$2\\pi$）：\n",
      "\n",
      "$$f(x) = \\sum_{n=-\\infty}^{\\infty} c_n e^{inx}$$\n",
      "\n",
      "其中\n",
      "$$c_n = \\frac{1}{2\\pi} \\int_{-\\pi}^{\\pi} f(x) e^{-inx} \\, dx, \\quad n = 0, \\pm 1, \\pm 2, \\dots$$>"
     ]
    },
    {
     "ename": "KeyboardInterrupt",
     "evalue": "Interrupted by user",
     "output_type": "error",
     "traceback": [
      "\u001b[31m---------------------------------------------------------------------------\u001b[39m",
      "\u001b[31mKeyboardInterrupt\u001b[39m                         Traceback (most recent call last)",
      "\u001b[36mCell\u001b[39m\u001b[36m \u001b[39m\u001b[32mIn[14]\u001b[39m\u001b[32m, line 4\u001b[39m\n\u001b[32m      2\u001b[39m \u001b[38;5;28;01mwhile\u001b[39;00m \u001b[38;5;28;01mTrue\u001b[39;00m:\n\u001b[32m      3\u001b[39m     \u001b[38;5;28mprint\u001b[39m(\u001b[33m'\u001b[39m\u001b[33m>\u001b[39m\u001b[33m'\u001b[39m, end=\u001b[33m'\u001b[39m\u001b[33m'\u001b[39m)\n\u001b[32m----> \u001b[39m\u001b[32m4\u001b[39m     _input = \u001b[38;5;28mstr\u001b[39m(\u001b[38;5;28;43minput\u001b[39;49m\u001b[43m(\u001b[49m\u001b[43m)\u001b[49m)\n\u001b[32m      5\u001b[39m     responses = client.request(_input)\n\u001b[32m      6\u001b[39m     \u001b[38;5;28;01mfor\u001b[39;00m resp \u001b[38;5;129;01min\u001b[39;00m responses:\n",
      "\u001b[36mFile \u001b[39m\u001b[32md:\\software\\miniconda3\\envs\\test\\Lib\\site-packages\\ipykernel\\kernelbase.py:1275\u001b[39m, in \u001b[36mKernel.raw_input\u001b[39m\u001b[34m(self, prompt)\u001b[39m\n\u001b[32m   1273\u001b[39m     msg = \u001b[33m\"\u001b[39m\u001b[33mraw_input was called, but this frontend does not support input requests.\u001b[39m\u001b[33m\"\u001b[39m\n\u001b[32m   1274\u001b[39m     \u001b[38;5;28;01mraise\u001b[39;00m StdinNotImplementedError(msg)\n\u001b[32m-> \u001b[39m\u001b[32m1275\u001b[39m \u001b[38;5;28;01mreturn\u001b[39;00m \u001b[38;5;28;43mself\u001b[39;49m\u001b[43m.\u001b[49m\u001b[43m_input_request\u001b[49m\u001b[43m(\u001b[49m\n\u001b[32m   1276\u001b[39m \u001b[43m    \u001b[49m\u001b[38;5;28;43mstr\u001b[39;49m\u001b[43m(\u001b[49m\u001b[43mprompt\u001b[49m\u001b[43m)\u001b[49m\u001b[43m,\u001b[49m\n\u001b[32m   1277\u001b[39m \u001b[43m    \u001b[49m\u001b[38;5;28;43mself\u001b[39;49m\u001b[43m.\u001b[49m\u001b[43m_parent_ident\u001b[49m\u001b[43m[\u001b[49m\u001b[33;43m\"\u001b[39;49m\u001b[33;43mshell\u001b[39;49m\u001b[33;43m\"\u001b[39;49m\u001b[43m]\u001b[49m\u001b[43m,\u001b[49m\n\u001b[32m   1278\u001b[39m \u001b[43m    \u001b[49m\u001b[38;5;28;43mself\u001b[39;49m\u001b[43m.\u001b[49m\u001b[43mget_parent\u001b[49m\u001b[43m(\u001b[49m\u001b[33;43m\"\u001b[39;49m\u001b[33;43mshell\u001b[39;49m\u001b[33;43m\"\u001b[39;49m\u001b[43m)\u001b[49m\u001b[43m,\u001b[49m\n\u001b[32m   1279\u001b[39m \u001b[43m    \u001b[49m\u001b[43mpassword\u001b[49m\u001b[43m=\u001b[49m\u001b[38;5;28;43;01mFalse\u001b[39;49;00m\u001b[43m,\u001b[49m\n\u001b[32m   1280\u001b[39m \u001b[43m\u001b[49m\u001b[43m)\u001b[49m\n",
      "\u001b[36mFile \u001b[39m\u001b[32md:\\software\\miniconda3\\envs\\test\\Lib\\site-packages\\ipykernel\\kernelbase.py:1320\u001b[39m, in \u001b[36mKernel._input_request\u001b[39m\u001b[34m(self, prompt, ident, parent, password)\u001b[39m\n\u001b[32m   1317\u001b[39m \u001b[38;5;28;01mexcept\u001b[39;00m \u001b[38;5;167;01mKeyboardInterrupt\u001b[39;00m:\n\u001b[32m   1318\u001b[39m     \u001b[38;5;66;03m# re-raise KeyboardInterrupt, to truncate traceback\u001b[39;00m\n\u001b[32m   1319\u001b[39m     msg = \u001b[33m\"\u001b[39m\u001b[33mInterrupted by user\u001b[39m\u001b[33m\"\u001b[39m\n\u001b[32m-> \u001b[39m\u001b[32m1320\u001b[39m     \u001b[38;5;28;01mraise\u001b[39;00m \u001b[38;5;167;01mKeyboardInterrupt\u001b[39;00m(msg) \u001b[38;5;28;01mfrom\u001b[39;00m\u001b[38;5;250m \u001b[39m\u001b[38;5;28;01mNone\u001b[39;00m\n\u001b[32m   1321\u001b[39m \u001b[38;5;28;01mexcept\u001b[39;00m \u001b[38;5;167;01mException\u001b[39;00m:\n\u001b[32m   1322\u001b[39m     \u001b[38;5;28mself\u001b[39m.log.warning(\u001b[33m\"\u001b[39m\u001b[33mInvalid Message:\u001b[39m\u001b[33m\"\u001b[39m, exc_info=\u001b[38;5;28;01mTrue\u001b[39;00m)\n",
      "\u001b[31mKeyboardInterrupt\u001b[39m: Interrupted by user"
     ]
    }
   ],
   "source": [
    "client = Client()\n",
    "while True:\n",
    "    print('>', end='')\n",
    "    _input = str(input())\n",
    "    responses = client.request(_input)\n",
    "    for resp in responses:\n",
    "        if resp is None:\n",
    "            continue\n",
    "        print(resp, end='')\n",
    "    "
   ]
  }
 ],
 "metadata": {
  "kernelspec": {
   "display_name": "test",
   "language": "python",
   "name": "python3"
  },
  "language_info": {
   "codemirror_mode": {
    "name": "ipython",
    "version": 3
   },
   "file_extension": ".py",
   "mimetype": "text/x-python",
   "name": "python",
   "nbconvert_exporter": "python",
   "pygments_lexer": "ipython3",
   "version": "3.12.11"
  }
 },
 "nbformat": 4,
 "nbformat_minor": 5
}
