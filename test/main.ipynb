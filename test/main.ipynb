{
 "cells": [
  {
   "cell_type": "code",
   "execution_count": 2,
   "id": "700c2cc1",
   "metadata": {},
   "outputs": [],
   "source": [
    "from volcenginesdkarkruntime import Ark\n",
    "import os, json\n",
    "\n",
    "model = \"ep-20250815082933-7jtbn\"\n",
    "agent = Ark(api_key=os.environ['ARK_API_KEY'])\n",
    "\n",
    "def construct_messages(role_description: str, prompt: str):\n",
    "    return [\n",
    "        {\n",
    "            'role': 'system',\n",
    "            'content': role_description\n",
    "        },\n",
    "        {\n",
    "            'role': 'user',\n",
    "            'content': [\n",
    "                {\n",
    "                    'type': 'text',\n",
    "                    'text': prompt\n",
    "                }\n",
    "            ]\n",
    "        }\n",
    "    ]"
   ]
  },
  {
   "cell_type": "code",
   "execution_count": 8,
   "id": "fd5019db",
   "metadata": {},
   "outputs": [],
   "source": [
    "def add(a: float, b: float)->float:\n",
    "    return a + 2*b\n",
    "tools = [\n",
    "    {\n",
    "        'type': 'function',\n",
    "        'function': {\n",
    "            'name': 'add',\n",
    "            'description': 'Add two number',\n",
    "            'parameters': {\n",
    "                'type': 'object',\n",
    "                'properties': {\n",
    "                    'a': {\n",
    "                        'type': 'float'\n",
    "                    },\n",
    "                    'b': {\n",
    "                        'type': 'float'\n",
    "                    }\n",
    "                }\n",
    "            },\n",
    "            'required': ['a', 'b']\n",
    "        }\n",
    "    }\n",
    "]"
   ]
  },
  {
   "cell_type": "code",
   "execution_count": null,
   "id": "0d257e0c",
   "metadata": {},
   "outputs": [
    {
     "name": "stdout",
     "output_type": "stream",
     "text": [
      "ChatCompletionMessage(content='', role='assistant', function_call=None, tool_calls=[ChatCompletionMessageToolCall(id='call_96bd1hkg4pgtmm8vvl9b7lda', function=Function(arguments='{\"a\":123,\"b\":446}', name='add'), type='function')], audio=None, reasoning_content='我现在要计算123加446的结果。这看起来是一个简单的加法问题，但根据系统提示，我需要使用提供的工具来完成。系统说我是一个计算器，所以应该调用加法工具。\\n\\n首先，我需要确认加法工具的名称和参数。根据给出的工具信息，函数名为\"add\"，参数是两个浮点数a和b。所以我需要构造一个包含这两个参数的JSON对象。\\n\\n接下来，检查参数是否正确。题目中的两个数是123和446，都是整数，可以直接作为浮点数传入，不需要转换。所以a应该是123.0，b是446.0。不过可能系统允许整数，这里可能直接用整数也行，但为了符合参数类型，可能需要明确写成浮点数。不过函数描述里说参数是float类型，所以最好用浮点数。\\n\\n然后，按照格式要求，用<|FunctionCallBegin|>和<|FunctionCallEnd|>包裹，里面是一个包含name和parameters的JSON数组。注意参数的键名是\"a\"和\"b\"，值是对应的数值。\\n\\n所以最终的调用应该是：<|FunctionCallBegin|>[{\"name\":\"add\",\"parameters\":{\"a\":123.0,\"b\":446.0}}]<|FunctionCallEnd|>。不过可能直接写整数123和446也可以，因为在JSON里整数和浮点数都可以表示，但根据参数类型，明确写成浮点数更保险。不过可能系统内部会自动处理，所以直接写123和446也没问题。\\n\\n确认没有其他需要调用的工具，因为题目只需要加法，不需要其他计算。所以这一步调用就可以得到结果。')\n"
     ]
    }
   ],
   "source": [
    "role_description = '''\n",
    "你是一个计算器。\n",
    "'''\n",
    "\n",
    "prompt = '''\n",
    "计算123+446\n",
    "'''\n",
    "messages = construct_messages(role_description, prompt)\n",
    "\n",
    "resp = agent.chat.completions.create(messages=messages, model = model, tools=tools)\n",
    "result = resp.choices[0].message\n",
    "print(result)"
   ]
  },
  {
   "cell_type": "code",
   "execution_count": null,
   "id": "3295f0ae",
   "metadata": {},
   "outputs": [
    {
     "data": {
      "text/plain": [
       "('add', '{\"a\":123,\"b\":446}')"
      ]
     },
     "execution_count": 11,
     "metadata": {},
     "output_type": "execute_result"
    }
   ],
   "source": [
    "function_call = result.tool_calls[0].function\n",
    "function_name = function_call.name\n",
    "function_arguments = function_call.arguments\n",
    "function_name, function_arguments"
   ]
  }
 ],
 "metadata": {
  "kernelspec": {
   "display_name": "test",
   "language": "python",
   "name": "python3"
  },
  "language_info": {
   "codemirror_mode": {
    "name": "ipython",
    "version": 3
   },
   "file_extension": ".py",
   "mimetype": "text/x-python",
   "name": "python",
   "nbconvert_exporter": "python",
   "pygments_lexer": "ipython3",
   "version": "3.12.11"
  }
 },
 "nbformat": 4,
 "nbformat_minor": 5
}
