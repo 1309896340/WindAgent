{
 "cells": [
  {
   "cell_type": "code",
   "execution_count": null,
   "id": "b550ae81",
   "metadata": {},
   "outputs": [],
   "source": [
    "import os\n",
    "import smtplib"
   ]
  },
  {
   "cell_type": "code",
   "execution_count": 45,
   "id": "4a1206c3",
   "metadata": {},
   "outputs": [],
   "source": [
    "qq_smtp_server = \"smtp.qq.com\"\n",
    "qq_smtp_port = 465\n",
    "qq_smtp_token = \"xmvqzloihmbpgeed\"\n",
    "qq_smtp_username = \"1309896340@qq.com\""
   ]
  },
  {
   "cell_type": "code",
   "execution_count": null,
   "id": "e6fba929",
   "metadata": {},
   "outputs": [
    {
     "name": "stdout",
     "output_type": "stream",
     "text": [
      "邮件发送成功\n"
     ]
    }
   ],
   "source": [
    "import smtplib\n",
    "from email.mime.text import MIMEText\n",
    "from email.header import Header\n",
    " \n",
    "sender = '1309896340@qq.com'\n",
    "receivers = ['2849059071@qq.com']\n",
    "receivers_nickname = [ 'Zsy' ]\n",
    "\n",
    "_from = f'Windwhisper <{sender}>'\n",
    "_to = \", \".join([f'{nick} <{mail}>' for mail, nick in zip(receivers, receivers_nickname)])\n",
    " \n",
    "message = MIMEText('Python 邮件发送测试...', 'plain', 'utf-8')\n",
    "message['From'] = _from\n",
    "message['To'] =  _to\n",
    " \n",
    "subject = 'Python SMTP 邮件测试'\n",
    "message['Subject'] = Header(subject, 'utf-8') # type: ignore\n",
    " \n",
    "try:\n",
    "    smtpObj = smtplib.SMTP_SSL(qq_smtp_server, qq_smtp_port)\n",
    "    smtpObj.login(qq_smtp_username,qq_smtp_token)  \n",
    "    smtpObj.sendmail(sender, receivers, message.as_string())\n",
    "    print(\"邮件发送成功\")\n",
    "except smtplib.SMTPException as e:\n",
    "    print(f\"Error: 无法发送邮件\\n{str(e)}\")"
   ]
  }
 ],
 "metadata": {
  "kernelspec": {
   "display_name": "test",
   "language": "python",
   "name": "python3"
  },
  "language_info": {
   "codemirror_mode": {
    "name": "ipython",
    "version": 3
   },
   "file_extension": ".py",
   "mimetype": "text/x-python",
   "name": "python",
   "nbconvert_exporter": "python",
   "pygments_lexer": "ipython3",
   "version": "3.12.11"
  }
 },
 "nbformat": 4,
 "nbformat_minor": 5
}
